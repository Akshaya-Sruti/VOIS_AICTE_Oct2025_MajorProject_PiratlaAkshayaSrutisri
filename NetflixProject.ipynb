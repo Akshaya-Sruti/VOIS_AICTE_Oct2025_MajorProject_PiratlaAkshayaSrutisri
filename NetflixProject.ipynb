{
  "cells": [
    {
      "cell_type": "markdown",
      "id": "c0856443-87ba-427c-8a1f-34176b609bed",
      "metadata": {
        "id": "c0856443-87ba-427c-8a1f-34176b609bed"
      },
      "source": [
        "### **Netflix Dataset Analysis**"
      ]
    },
    {
      "cell_type": "markdown",
      "source": [
        "# Importing required **modules**"
      ],
      "metadata": {
        "id": "pab2k6pZQqlb"
      },
      "id": "pab2k6pZQqlb"
    },
    {
      "cell_type": "code",
      "execution_count": null,
      "id": "85aa6bac-35a0-49e0-ade4-9650020968e3",
      "metadata": {
        "id": "85aa6bac-35a0-49e0-ade4-9650020968e3"
      },
      "outputs": [],
      "source": [
        "import pandas as pd\n",
        "import numpy as np\n",
        "import matplotlib.pyplot as plt\n",
        "import seaborn as sns\n"
      ]
    },
    {
      "cell_type": "code",
      "execution_count": null,
      "id": "2020da13-434b-47cb-9679-6fab7a7c32c5",
      "metadata": {
        "id": "2020da13-434b-47cb-9679-6fab7a7c32c5"
      },
      "outputs": [],
      "source": [
        "df=pd.read_csv(r\"/content/Netflix Dataset.csv\")"
      ]
    },
    {
      "cell_type": "code",
      "execution_count": null,
      "id": "f0580838-5c23-4306-9333-86df144e7cd8",
      "metadata": {
        "colab": {
          "base_uri": "https://localhost:8080/",
          "height": 1000
        },
        "id": "f0580838-5c23-4306-9333-86df144e7cd8",
        "outputId": "5723a101-2482-422e-ce80-79b797c59d4f"
      },
      "outputs": [
        {
          "output_type": "execute_result",
          "data": {
            "text/plain": [
              "   Show_Id Category   Title              Director  \\\n",
              "0       s1  TV Show      3%                   NaN   \n",
              "1       s2    Movie   07:19     Jorge Michel Grau   \n",
              "2       s3    Movie   23:59          Gilbert Chan   \n",
              "3       s4    Movie       9           Shane Acker   \n",
              "4       s5    Movie      21        Robert Luketic   \n",
              "5       s6  TV Show      46           Serdar Akar   \n",
              "6       s7    Movie     122       Yasir Al Yasiri   \n",
              "7       s8    Movie     187        Kevin Reynolds   \n",
              "8       s9    Movie     706         Shravan Kumar   \n",
              "9      s10    Movie    1920          Vikram Bhatt   \n",
              "10     s11    Movie    1922          Zak Hilditch   \n",
              "11     s12  TV Show    1983                   NaN   \n",
              "12     s13  TV Show    1994  Diego Enrique Osorno   \n",
              "13     s14    Movie   2,215   Nottapon Boonprakob   \n",
              "14     s15    Movie    3022            John Suits   \n",
              "15     s16    Movie  Oct-01        Kunle Afolayan   \n",
              "16     s17  TV Show  Feb-09                   NaN   \n",
              "17     s18    Movie  22-Jul       Paul Greengrass   \n",
              "18     s19    Movie  15-Aug    Swapnaneel Jayakar   \n",
              "19     s20    Movie     '89                   NaN   \n",
              "\n",
              "                                                 Cast  \\\n",
              "0   João Miguel, Bianca Comparato, Michel Gomes, R...   \n",
              "1   Demián Bichir, Héctor Bonilla, Oscar Serrano, ...   \n",
              "2   Tedd Chan, Stella Chung, Henley Hii, Lawrence ...   \n",
              "3   Elijah Wood, John C. Reilly, Jennifer Connelly...   \n",
              "4   Jim Sturgess, Kevin Spacey, Kate Bosworth, Aar...   \n",
              "5   Erdal Beşikçioğlu, Yasemin Allen, Melis Birkan...   \n",
              "6   Amina Khalil, Ahmed Dawood, Tarek Lotfy, Ahmed...   \n",
              "7   Samuel L. Jackson, John Heard, Kelly Rowan, Cl...   \n",
              "8   Divya Dutta, Atul Kulkarni, Mohan Agashe, Anup...   \n",
              "9   Rajneesh Duggal, Adah Sharma, Indraneil Sengup...   \n",
              "10  Thomas Jane, Molly Parker, Dylan Schmid, Kaitl...   \n",
              "11  Robert Więckiewicz, Maciej Musiał, Michalina O...   \n",
              "12                                                NaN   \n",
              "13                                 Artiwara Kongmalai   \n",
              "14  Omar Epps, Kate Walsh, Miranda Cosgrove, Angus...   \n",
              "15  Sadiq Daba, David Bailie, Kayode Olaiya, Kehin...   \n",
              "16  Shahd El Yaseen, Shaila Sabt, Hala, Hanadi Al-...   \n",
              "17  Anders Danielsen Lie, Jon Øigarden, Jonas Stra...   \n",
              "18  Rahul Pethe, Mrunmayee Deshpande, Adinath Koth...   \n",
              "19                 Lee Dixon, Ian Wright, Paul Merson   \n",
              "\n",
              "                           Country       Release_Date Rating   Duration  \\\n",
              "0                           Brazil    August 14, 2020  TV-MA  4 Seasons   \n",
              "1                           Mexico  December 23, 2016  TV-MA     93 min   \n",
              "2                        Singapore  December 20, 2018      R     78 min   \n",
              "3                    United States  November 16, 2017  PG-13     80 min   \n",
              "4                    United States    January 1, 2020  PG-13    123 min   \n",
              "5                           Turkey       July 1, 2017  TV-MA   1 Season   \n",
              "6                            Egypt       June 1, 2020  TV-MA     95 min   \n",
              "7                    United States   November 1, 2019      R    119 min   \n",
              "8                            India      April 1, 2019  TV-14    118 min   \n",
              "9                            India  December 15, 2017  TV-MA    143 min   \n",
              "10                   United States   October 20, 2017  TV-MA    103 min   \n",
              "11           Poland, United States  November 30, 2018  TV-MA   1 Season   \n",
              "12                          Mexico       May 17, 2019  TV-MA   1 Season   \n",
              "13                        Thailand      March 1, 2019  TV-MA     89 min   \n",
              "14                   United States     March 19, 2020      R     91 min   \n",
              "15                         Nigeria  September 1, 2019  TV-14    149 min   \n",
              "16                             NaN     March 20, 2019  TV-14   1 Season   \n",
              "17  Norway, Iceland, United States   October 10, 2018      R    144 min   \n",
              "18                           India     March 29, 2019  TV-14    124 min   \n",
              "19                  United Kingdom       May 16, 2018  TV-PG     87 min   \n",
              "\n",
              "                                                 Type  \\\n",
              "0   International TV Shows, TV Dramas, TV Sci-Fi &...   \n",
              "1                        Dramas, International Movies   \n",
              "2                 Horror Movies, International Movies   \n",
              "3   Action & Adventure, Independent Movies, Sci-Fi...   \n",
              "4                                              Dramas   \n",
              "5     International TV Shows, TV Dramas, TV Mysteries   \n",
              "6                 Horror Movies, International Movies   \n",
              "7                                              Dramas   \n",
              "8                 Horror Movies, International Movies   \n",
              "9      Horror Movies, International Movies, Thrillers   \n",
              "10                                  Dramas, Thrillers   \n",
              "11  Crime TV Shows, International TV Shows, TV Dramas   \n",
              "12  Crime TV Shows, Docuseries, International TV S...   \n",
              "13  Documentaries, International Movies, Sports Mo...   \n",
              "14    Independent Movies, Sci-Fi & Fantasy, Thrillers   \n",
              "15            Dramas, International Movies, Thrillers   \n",
              "16                  International TV Shows, TV Dramas   \n",
              "17                                  Dramas, Thrillers   \n",
              "18               Comedies, Dramas, Independent Movies   \n",
              "19                                      Sports Movies   \n",
              "\n",
              "                                          Description  \n",
              "0   In a future where the elite inhabit an island ...  \n",
              "1   After a devastating earthquake hits Mexico Cit...  \n",
              "2   When an army recruit is found dead, his fellow...  \n",
              "3   In a postapocalyptic world, rag-doll robots hi...  \n",
              "4   A brilliant group of students become card-coun...  \n",
              "5   A genetics professor experiments with a treatm...  \n",
              "6   After an awful accident, a couple admitted to ...  \n",
              "7   After one of his high school students attacks ...  \n",
              "8   When a doctor goes missing, his psychiatrist w...  \n",
              "9   An architect and his wife move into a castle t...  \n",
              "10  A farmer pens a confession admitting to his wi...  \n",
              "11  In this dark alt-history thriller, a naïve law...  \n",
              "12  Archival video and new interviews examine Mexi...  \n",
              "13  This intimate documentary follows rock star Ar...  \n",
              "14  Stranded when the Earth is suddenly destroyed ...  \n",
              "15  Against the backdrop of Nigeria's looming inde...  \n",
              "16  As a psychology professor faces Alzheimer's, h...  \n",
              "17  After devastating terror attacks in Norway, a ...  \n",
              "18  On India's Independence Day, a zany mishap in ...  \n",
              "19  Mixing old footage with interviews, this is th...  "
            ],
            "text/html": [
              "\n",
              "  <div id=\"df-66442467-9d01-4e19-8343-cde096105c80\" class=\"colab-df-container\">\n",
              "    <div>\n",
              "<style scoped>\n",
              "    .dataframe tbody tr th:only-of-type {\n",
              "        vertical-align: middle;\n",
              "    }\n",
              "\n",
              "    .dataframe tbody tr th {\n",
              "        vertical-align: top;\n",
              "    }\n",
              "\n",
              "    .dataframe thead th {\n",
              "        text-align: right;\n",
              "    }\n",
              "</style>\n",
              "<table border=\"1\" class=\"dataframe\">\n",
              "  <thead>\n",
              "    <tr style=\"text-align: right;\">\n",
              "      <th></th>\n",
              "      <th>Show_Id</th>\n",
              "      <th>Category</th>\n",
              "      <th>Title</th>\n",
              "      <th>Director</th>\n",
              "      <th>Cast</th>\n",
              "      <th>Country</th>\n",
              "      <th>Release_Date</th>\n",
              "      <th>Rating</th>\n",
              "      <th>Duration</th>\n",
              "      <th>Type</th>\n",
              "      <th>Description</th>\n",
              "    </tr>\n",
              "  </thead>\n",
              "  <tbody>\n",
              "    <tr>\n",
              "      <th>0</th>\n",
              "      <td>s1</td>\n",
              "      <td>TV Show</td>\n",
              "      <td>3%</td>\n",
              "      <td>NaN</td>\n",
              "      <td>João Miguel, Bianca Comparato, Michel Gomes, R...</td>\n",
              "      <td>Brazil</td>\n",
              "      <td>August 14, 2020</td>\n",
              "      <td>TV-MA</td>\n",
              "      <td>4 Seasons</td>\n",
              "      <td>International TV Shows, TV Dramas, TV Sci-Fi &amp;...</td>\n",
              "      <td>In a future where the elite inhabit an island ...</td>\n",
              "    </tr>\n",
              "    <tr>\n",
              "      <th>1</th>\n",
              "      <td>s2</td>\n",
              "      <td>Movie</td>\n",
              "      <td>07:19</td>\n",
              "      <td>Jorge Michel Grau</td>\n",
              "      <td>Demián Bichir, Héctor Bonilla, Oscar Serrano, ...</td>\n",
              "      <td>Mexico</td>\n",
              "      <td>December 23, 2016</td>\n",
              "      <td>TV-MA</td>\n",
              "      <td>93 min</td>\n",
              "      <td>Dramas, International Movies</td>\n",
              "      <td>After a devastating earthquake hits Mexico Cit...</td>\n",
              "    </tr>\n",
              "    <tr>\n",
              "      <th>2</th>\n",
              "      <td>s3</td>\n",
              "      <td>Movie</td>\n",
              "      <td>23:59</td>\n",
              "      <td>Gilbert Chan</td>\n",
              "      <td>Tedd Chan, Stella Chung, Henley Hii, Lawrence ...</td>\n",
              "      <td>Singapore</td>\n",
              "      <td>December 20, 2018</td>\n",
              "      <td>R</td>\n",
              "      <td>78 min</td>\n",
              "      <td>Horror Movies, International Movies</td>\n",
              "      <td>When an army recruit is found dead, his fellow...</td>\n",
              "    </tr>\n",
              "    <tr>\n",
              "      <th>3</th>\n",
              "      <td>s4</td>\n",
              "      <td>Movie</td>\n",
              "      <td>9</td>\n",
              "      <td>Shane Acker</td>\n",
              "      <td>Elijah Wood, John C. Reilly, Jennifer Connelly...</td>\n",
              "      <td>United States</td>\n",
              "      <td>November 16, 2017</td>\n",
              "      <td>PG-13</td>\n",
              "      <td>80 min</td>\n",
              "      <td>Action &amp; Adventure, Independent Movies, Sci-Fi...</td>\n",
              "      <td>In a postapocalyptic world, rag-doll robots hi...</td>\n",
              "    </tr>\n",
              "    <tr>\n",
              "      <th>4</th>\n",
              "      <td>s5</td>\n",
              "      <td>Movie</td>\n",
              "      <td>21</td>\n",
              "      <td>Robert Luketic</td>\n",
              "      <td>Jim Sturgess, Kevin Spacey, Kate Bosworth, Aar...</td>\n",
              "      <td>United States</td>\n",
              "      <td>January 1, 2020</td>\n",
              "      <td>PG-13</td>\n",
              "      <td>123 min</td>\n",
              "      <td>Dramas</td>\n",
              "      <td>A brilliant group of students become card-coun...</td>\n",
              "    </tr>\n",
              "    <tr>\n",
              "      <th>5</th>\n",
              "      <td>s6</td>\n",
              "      <td>TV Show</td>\n",
              "      <td>46</td>\n",
              "      <td>Serdar Akar</td>\n",
              "      <td>Erdal Beşikçioğlu, Yasemin Allen, Melis Birkan...</td>\n",
              "      <td>Turkey</td>\n",
              "      <td>July 1, 2017</td>\n",
              "      <td>TV-MA</td>\n",
              "      <td>1 Season</td>\n",
              "      <td>International TV Shows, TV Dramas, TV Mysteries</td>\n",
              "      <td>A genetics professor experiments with a treatm...</td>\n",
              "    </tr>\n",
              "    <tr>\n",
              "      <th>6</th>\n",
              "      <td>s7</td>\n",
              "      <td>Movie</td>\n",
              "      <td>122</td>\n",
              "      <td>Yasir Al Yasiri</td>\n",
              "      <td>Amina Khalil, Ahmed Dawood, Tarek Lotfy, Ahmed...</td>\n",
              "      <td>Egypt</td>\n",
              "      <td>June 1, 2020</td>\n",
              "      <td>TV-MA</td>\n",
              "      <td>95 min</td>\n",
              "      <td>Horror Movies, International Movies</td>\n",
              "      <td>After an awful accident, a couple admitted to ...</td>\n",
              "    </tr>\n",
              "    <tr>\n",
              "      <th>7</th>\n",
              "      <td>s8</td>\n",
              "      <td>Movie</td>\n",
              "      <td>187</td>\n",
              "      <td>Kevin Reynolds</td>\n",
              "      <td>Samuel L. Jackson, John Heard, Kelly Rowan, Cl...</td>\n",
              "      <td>United States</td>\n",
              "      <td>November 1, 2019</td>\n",
              "      <td>R</td>\n",
              "      <td>119 min</td>\n",
              "      <td>Dramas</td>\n",
              "      <td>After one of his high school students attacks ...</td>\n",
              "    </tr>\n",
              "    <tr>\n",
              "      <th>8</th>\n",
              "      <td>s9</td>\n",
              "      <td>Movie</td>\n",
              "      <td>706</td>\n",
              "      <td>Shravan Kumar</td>\n",
              "      <td>Divya Dutta, Atul Kulkarni, Mohan Agashe, Anup...</td>\n",
              "      <td>India</td>\n",
              "      <td>April 1, 2019</td>\n",
              "      <td>TV-14</td>\n",
              "      <td>118 min</td>\n",
              "      <td>Horror Movies, International Movies</td>\n",
              "      <td>When a doctor goes missing, his psychiatrist w...</td>\n",
              "    </tr>\n",
              "    <tr>\n",
              "      <th>9</th>\n",
              "      <td>s10</td>\n",
              "      <td>Movie</td>\n",
              "      <td>1920</td>\n",
              "      <td>Vikram Bhatt</td>\n",
              "      <td>Rajneesh Duggal, Adah Sharma, Indraneil Sengup...</td>\n",
              "      <td>India</td>\n",
              "      <td>December 15, 2017</td>\n",
              "      <td>TV-MA</td>\n",
              "      <td>143 min</td>\n",
              "      <td>Horror Movies, International Movies, Thrillers</td>\n",
              "      <td>An architect and his wife move into a castle t...</td>\n",
              "    </tr>\n",
              "    <tr>\n",
              "      <th>10</th>\n",
              "      <td>s11</td>\n",
              "      <td>Movie</td>\n",
              "      <td>1922</td>\n",
              "      <td>Zak Hilditch</td>\n",
              "      <td>Thomas Jane, Molly Parker, Dylan Schmid, Kaitl...</td>\n",
              "      <td>United States</td>\n",
              "      <td>October 20, 2017</td>\n",
              "      <td>TV-MA</td>\n",
              "      <td>103 min</td>\n",
              "      <td>Dramas, Thrillers</td>\n",
              "      <td>A farmer pens a confession admitting to his wi...</td>\n",
              "    </tr>\n",
              "    <tr>\n",
              "      <th>11</th>\n",
              "      <td>s12</td>\n",
              "      <td>TV Show</td>\n",
              "      <td>1983</td>\n",
              "      <td>NaN</td>\n",
              "      <td>Robert Więckiewicz, Maciej Musiał, Michalina O...</td>\n",
              "      <td>Poland, United States</td>\n",
              "      <td>November 30, 2018</td>\n",
              "      <td>TV-MA</td>\n",
              "      <td>1 Season</td>\n",
              "      <td>Crime TV Shows, International TV Shows, TV Dramas</td>\n",
              "      <td>In this dark alt-history thriller, a naïve law...</td>\n",
              "    </tr>\n",
              "    <tr>\n",
              "      <th>12</th>\n",
              "      <td>s13</td>\n",
              "      <td>TV Show</td>\n",
              "      <td>1994</td>\n",
              "      <td>Diego Enrique Osorno</td>\n",
              "      <td>NaN</td>\n",
              "      <td>Mexico</td>\n",
              "      <td>May 17, 2019</td>\n",
              "      <td>TV-MA</td>\n",
              "      <td>1 Season</td>\n",
              "      <td>Crime TV Shows, Docuseries, International TV S...</td>\n",
              "      <td>Archival video and new interviews examine Mexi...</td>\n",
              "    </tr>\n",
              "    <tr>\n",
              "      <th>13</th>\n",
              "      <td>s14</td>\n",
              "      <td>Movie</td>\n",
              "      <td>2,215</td>\n",
              "      <td>Nottapon Boonprakob</td>\n",
              "      <td>Artiwara Kongmalai</td>\n",
              "      <td>Thailand</td>\n",
              "      <td>March 1, 2019</td>\n",
              "      <td>TV-MA</td>\n",
              "      <td>89 min</td>\n",
              "      <td>Documentaries, International Movies, Sports Mo...</td>\n",
              "      <td>This intimate documentary follows rock star Ar...</td>\n",
              "    </tr>\n",
              "    <tr>\n",
              "      <th>14</th>\n",
              "      <td>s15</td>\n",
              "      <td>Movie</td>\n",
              "      <td>3022</td>\n",
              "      <td>John Suits</td>\n",
              "      <td>Omar Epps, Kate Walsh, Miranda Cosgrove, Angus...</td>\n",
              "      <td>United States</td>\n",
              "      <td>March 19, 2020</td>\n",
              "      <td>R</td>\n",
              "      <td>91 min</td>\n",
              "      <td>Independent Movies, Sci-Fi &amp; Fantasy, Thrillers</td>\n",
              "      <td>Stranded when the Earth is suddenly destroyed ...</td>\n",
              "    </tr>\n",
              "    <tr>\n",
              "      <th>15</th>\n",
              "      <td>s16</td>\n",
              "      <td>Movie</td>\n",
              "      <td>Oct-01</td>\n",
              "      <td>Kunle Afolayan</td>\n",
              "      <td>Sadiq Daba, David Bailie, Kayode Olaiya, Kehin...</td>\n",
              "      <td>Nigeria</td>\n",
              "      <td>September 1, 2019</td>\n",
              "      <td>TV-14</td>\n",
              "      <td>149 min</td>\n",
              "      <td>Dramas, International Movies, Thrillers</td>\n",
              "      <td>Against the backdrop of Nigeria's looming inde...</td>\n",
              "    </tr>\n",
              "    <tr>\n",
              "      <th>16</th>\n",
              "      <td>s17</td>\n",
              "      <td>TV Show</td>\n",
              "      <td>Feb-09</td>\n",
              "      <td>NaN</td>\n",
              "      <td>Shahd El Yaseen, Shaila Sabt, Hala, Hanadi Al-...</td>\n",
              "      <td>NaN</td>\n",
              "      <td>March 20, 2019</td>\n",
              "      <td>TV-14</td>\n",
              "      <td>1 Season</td>\n",
              "      <td>International TV Shows, TV Dramas</td>\n",
              "      <td>As a psychology professor faces Alzheimer's, h...</td>\n",
              "    </tr>\n",
              "    <tr>\n",
              "      <th>17</th>\n",
              "      <td>s18</td>\n",
              "      <td>Movie</td>\n",
              "      <td>22-Jul</td>\n",
              "      <td>Paul Greengrass</td>\n",
              "      <td>Anders Danielsen Lie, Jon Øigarden, Jonas Stra...</td>\n",
              "      <td>Norway, Iceland, United States</td>\n",
              "      <td>October 10, 2018</td>\n",
              "      <td>R</td>\n",
              "      <td>144 min</td>\n",
              "      <td>Dramas, Thrillers</td>\n",
              "      <td>After devastating terror attacks in Norway, a ...</td>\n",
              "    </tr>\n",
              "    <tr>\n",
              "      <th>18</th>\n",
              "      <td>s19</td>\n",
              "      <td>Movie</td>\n",
              "      <td>15-Aug</td>\n",
              "      <td>Swapnaneel Jayakar</td>\n",
              "      <td>Rahul Pethe, Mrunmayee Deshpande, Adinath Koth...</td>\n",
              "      <td>India</td>\n",
              "      <td>March 29, 2019</td>\n",
              "      <td>TV-14</td>\n",
              "      <td>124 min</td>\n",
              "      <td>Comedies, Dramas, Independent Movies</td>\n",
              "      <td>On India's Independence Day, a zany mishap in ...</td>\n",
              "    </tr>\n",
              "    <tr>\n",
              "      <th>19</th>\n",
              "      <td>s20</td>\n",
              "      <td>Movie</td>\n",
              "      <td>'89</td>\n",
              "      <td>NaN</td>\n",
              "      <td>Lee Dixon, Ian Wright, Paul Merson</td>\n",
              "      <td>United Kingdom</td>\n",
              "      <td>May 16, 2018</td>\n",
              "      <td>TV-PG</td>\n",
              "      <td>87 min</td>\n",
              "      <td>Sports Movies</td>\n",
              "      <td>Mixing old footage with interviews, this is th...</td>\n",
              "    </tr>\n",
              "  </tbody>\n",
              "</table>\n",
              "</div>\n",
              "    <div class=\"colab-df-buttons\">\n",
              "\n",
              "  <div class=\"colab-df-container\">\n",
              "    <button class=\"colab-df-convert\" onclick=\"convertToInteractive('df-66442467-9d01-4e19-8343-cde096105c80')\"\n",
              "            title=\"Convert this dataframe to an interactive table.\"\n",
              "            style=\"display:none;\">\n",
              "\n",
              "  <svg xmlns=\"http://www.w3.org/2000/svg\" height=\"24px\" viewBox=\"0 -960 960 960\">\n",
              "    <path d=\"M120-120v-720h720v720H120Zm60-500h600v-160H180v160Zm220 220h160v-160H400v160Zm0 220h160v-160H400v160ZM180-400h160v-160H180v160Zm440 0h160v-160H620v160ZM180-180h160v-160H180v160Zm440 0h160v-160H620v160Z\"/>\n",
              "  </svg>\n",
              "    </button>\n",
              "\n",
              "  <style>\n",
              "    .colab-df-container {\n",
              "      display:flex;\n",
              "      gap: 12px;\n",
              "    }\n",
              "\n",
              "    .colab-df-convert {\n",
              "      background-color: #E8F0FE;\n",
              "      border: none;\n",
              "      border-radius: 50%;\n",
              "      cursor: pointer;\n",
              "      display: none;\n",
              "      fill: #1967D2;\n",
              "      height: 32px;\n",
              "      padding: 0 0 0 0;\n",
              "      width: 32px;\n",
              "    }\n",
              "\n",
              "    .colab-df-convert:hover {\n",
              "      background-color: #E2EBFA;\n",
              "      box-shadow: 0px 1px 2px rgba(60, 64, 67, 0.3), 0px 1px 3px 1px rgba(60, 64, 67, 0.15);\n",
              "      fill: #174EA6;\n",
              "    }\n",
              "\n",
              "    .colab-df-buttons div {\n",
              "      margin-bottom: 4px;\n",
              "    }\n",
              "\n",
              "    [theme=dark] .colab-df-convert {\n",
              "      background-color: #3B4455;\n",
              "      fill: #D2E3FC;\n",
              "    }\n",
              "\n",
              "    [theme=dark] .colab-df-convert:hover {\n",
              "      background-color: #434B5C;\n",
              "      box-shadow: 0px 1px 3px 1px rgba(0, 0, 0, 0.15);\n",
              "      filter: drop-shadow(0px 1px 2px rgba(0, 0, 0, 0.3));\n",
              "      fill: #FFFFFF;\n",
              "    }\n",
              "  </style>\n",
              "\n",
              "    <script>\n",
              "      const buttonEl =\n",
              "        document.querySelector('#df-66442467-9d01-4e19-8343-cde096105c80 button.colab-df-convert');\n",
              "      buttonEl.style.display =\n",
              "        google.colab.kernel.accessAllowed ? 'block' : 'none';\n",
              "\n",
              "      async function convertToInteractive(key) {\n",
              "        const element = document.querySelector('#df-66442467-9d01-4e19-8343-cde096105c80');\n",
              "        const dataTable =\n",
              "          await google.colab.kernel.invokeFunction('convertToInteractive',\n",
              "                                                    [key], {});\n",
              "        if (!dataTable) return;\n",
              "\n",
              "        const docLinkHtml = 'Like what you see? Visit the ' +\n",
              "          '<a target=\"_blank\" href=https://colab.research.google.com/notebooks/data_table.ipynb>data table notebook</a>'\n",
              "          + ' to learn more about interactive tables.';\n",
              "        element.innerHTML = '';\n",
              "        dataTable['output_type'] = 'display_data';\n",
              "        await google.colab.output.renderOutput(dataTable, element);\n",
              "        const docLink = document.createElement('div');\n",
              "        docLink.innerHTML = docLinkHtml;\n",
              "        element.appendChild(docLink);\n",
              "      }\n",
              "    </script>\n",
              "  </div>\n",
              "\n",
              "\n",
              "    <div id=\"df-f74d60c7-f578-44d5-a161-06cac48de04c\">\n",
              "      <button class=\"colab-df-quickchart\" onclick=\"quickchart('df-f74d60c7-f578-44d5-a161-06cac48de04c')\"\n",
              "                title=\"Suggest charts\"\n",
              "                style=\"display:none;\">\n",
              "\n",
              "<svg xmlns=\"http://www.w3.org/2000/svg\" height=\"24px\"viewBox=\"0 0 24 24\"\n",
              "     width=\"24px\">\n",
              "    <g>\n",
              "        <path d=\"M19 3H5c-1.1 0-2 .9-2 2v14c0 1.1.9 2 2 2h14c1.1 0 2-.9 2-2V5c0-1.1-.9-2-2-2zM9 17H7v-7h2v7zm4 0h-2V7h2v10zm4 0h-2v-4h2v4z\"/>\n",
              "    </g>\n",
              "</svg>\n",
              "      </button>\n",
              "\n",
              "<style>\n",
              "  .colab-df-quickchart {\n",
              "      --bg-color: #E8F0FE;\n",
              "      --fill-color: #1967D2;\n",
              "      --hover-bg-color: #E2EBFA;\n",
              "      --hover-fill-color: #174EA6;\n",
              "      --disabled-fill-color: #AAA;\n",
              "      --disabled-bg-color: #DDD;\n",
              "  }\n",
              "\n",
              "  [theme=dark] .colab-df-quickchart {\n",
              "      --bg-color: #3B4455;\n",
              "      --fill-color: #D2E3FC;\n",
              "      --hover-bg-color: #434B5C;\n",
              "      --hover-fill-color: #FFFFFF;\n",
              "      --disabled-bg-color: #3B4455;\n",
              "      --disabled-fill-color: #666;\n",
              "  }\n",
              "\n",
              "  .colab-df-quickchart {\n",
              "    background-color: var(--bg-color);\n",
              "    border: none;\n",
              "    border-radius: 50%;\n",
              "    cursor: pointer;\n",
              "    display: none;\n",
              "    fill: var(--fill-color);\n",
              "    height: 32px;\n",
              "    padding: 0;\n",
              "    width: 32px;\n",
              "  }\n",
              "\n",
              "  .colab-df-quickchart:hover {\n",
              "    background-color: var(--hover-bg-color);\n",
              "    box-shadow: 0 1px 2px rgba(60, 64, 67, 0.3), 0 1px 3px 1px rgba(60, 64, 67, 0.15);\n",
              "    fill: var(--button-hover-fill-color);\n",
              "  }\n",
              "\n",
              "  .colab-df-quickchart-complete:disabled,\n",
              "  .colab-df-quickchart-complete:disabled:hover {\n",
              "    background-color: var(--disabled-bg-color);\n",
              "    fill: var(--disabled-fill-color);\n",
              "    box-shadow: none;\n",
              "  }\n",
              "\n",
              "  .colab-df-spinner {\n",
              "    border: 2px solid var(--fill-color);\n",
              "    border-color: transparent;\n",
              "    border-bottom-color: var(--fill-color);\n",
              "    animation:\n",
              "      spin 1s steps(1) infinite;\n",
              "  }\n",
              "\n",
              "  @keyframes spin {\n",
              "    0% {\n",
              "      border-color: transparent;\n",
              "      border-bottom-color: var(--fill-color);\n",
              "      border-left-color: var(--fill-color);\n",
              "    }\n",
              "    20% {\n",
              "      border-color: transparent;\n",
              "      border-left-color: var(--fill-color);\n",
              "      border-top-color: var(--fill-color);\n",
              "    }\n",
              "    30% {\n",
              "      border-color: transparent;\n",
              "      border-left-color: var(--fill-color);\n",
              "      border-top-color: var(--fill-color);\n",
              "      border-right-color: var(--fill-color);\n",
              "    }\n",
              "    40% {\n",
              "      border-color: transparent;\n",
              "      border-right-color: var(--fill-color);\n",
              "      border-top-color: var(--fill-color);\n",
              "    }\n",
              "    60% {\n",
              "      border-color: transparent;\n",
              "      border-right-color: var(--fill-color);\n",
              "    }\n",
              "    80% {\n",
              "      border-color: transparent;\n",
              "      border-right-color: var(--fill-color);\n",
              "      border-bottom-color: var(--fill-color);\n",
              "    }\n",
              "    90% {\n",
              "      border-color: transparent;\n",
              "      border-bottom-color: var(--fill-color);\n",
              "    }\n",
              "  }\n",
              "</style>\n",
              "\n",
              "      <script>\n",
              "        async function quickchart(key) {\n",
              "          const quickchartButtonEl =\n",
              "            document.querySelector('#' + key + ' button');\n",
              "          quickchartButtonEl.disabled = true;  // To prevent multiple clicks.\n",
              "          quickchartButtonEl.classList.add('colab-df-spinner');\n",
              "          try {\n",
              "            const charts = await google.colab.kernel.invokeFunction(\n",
              "                'suggestCharts', [key], {});\n",
              "          } catch (error) {\n",
              "            console.error('Error during call to suggestCharts:', error);\n",
              "          }\n",
              "          quickchartButtonEl.classList.remove('colab-df-spinner');\n",
              "          quickchartButtonEl.classList.add('colab-df-quickchart-complete');\n",
              "        }\n",
              "        (() => {\n",
              "          let quickchartButtonEl =\n",
              "            document.querySelector('#df-f74d60c7-f578-44d5-a161-06cac48de04c button');\n",
              "          quickchartButtonEl.style.display =\n",
              "            google.colab.kernel.accessAllowed ? 'block' : 'none';\n",
              "        })();\n",
              "      </script>\n",
              "    </div>\n",
              "\n",
              "    </div>\n",
              "  </div>\n"
            ],
            "application/vnd.google.colaboratory.intrinsic+json": {
              "type": "dataframe",
              "variable_name": "df",
              "summary": "{\n  \"name\": \"df\",\n  \"rows\": 7789,\n  \"fields\": [\n    {\n      \"column\": \"Show_Id\",\n      \"properties\": {\n        \"dtype\": \"string\",\n        \"num_unique_values\": 7787,\n        \"samples\": [\n          \"s7325\",\n          \"s4695\",\n          \"s1323\"\n        ],\n        \"semantic_type\": \"\",\n        \"description\": \"\"\n      }\n    },\n    {\n      \"column\": \"Category\",\n      \"properties\": {\n        \"dtype\": \"category\",\n        \"num_unique_values\": 2,\n        \"samples\": [\n          \"Movie\",\n          \"TV Show\"\n        ],\n        \"semantic_type\": \"\",\n        \"description\": \"\"\n      }\n    },\n    {\n      \"column\": \"Title\",\n      \"properties\": {\n        \"dtype\": \"string\",\n        \"num_unique_values\": 7787,\n        \"samples\": [\n          \"Unchained: The Untold Story of Freestyle Motocross\",\n          \"Our Idiot Brother\"\n        ],\n        \"semantic_type\": \"\",\n        \"description\": \"\"\n      }\n    },\n    {\n      \"column\": \"Director\",\n      \"properties\": {\n        \"dtype\": \"string\",\n        \"num_unique_values\": 4050,\n        \"samples\": [\n          \"Nicholas Ray\",\n          \"Francisco Macri\"\n        ],\n        \"semantic_type\": \"\",\n        \"description\": \"\"\n      }\n    },\n    {\n      \"column\": \"Cast\",\n      \"properties\": {\n        \"dtype\": \"string\",\n        \"num_unique_values\": 6831,\n        \"samples\": [\n          \"Drew Barrymore, Timothy Olyphant, Liv Hewson, Skyler Gisondo\",\n          \"Jodie Whittaker, Warwick Davis, Jim Broadbent, Stephen Graham, Nonso Anozie, Rafe Spall, Ewen Bremner, Matt King\"\n        ],\n        \"semantic_type\": \"\",\n        \"description\": \"\"\n      }\n    },\n    {\n      \"column\": \"Country\",\n      \"properties\": {\n        \"dtype\": \"category\",\n        \"num_unique_values\": 681,\n        \"samples\": [\n          \"Romania, United Kingdom\",\n          \"United States, United Arab Emirates\"\n        ],\n        \"semantic_type\": \"\",\n        \"description\": \"\"\n      }\n    },\n    {\n      \"column\": \"Release_Date\",\n      \"properties\": {\n        \"dtype\": \"category\",\n        \"num_unique_values\": 1565,\n        \"samples\": [\n          \"April 18, 2017\",\n          \"February 27, 2020\"\n        ],\n        \"semantic_type\": \"\",\n        \"description\": \"\"\n      }\n    },\n    {\n      \"column\": \"Rating\",\n      \"properties\": {\n        \"dtype\": \"category\",\n        \"num_unique_values\": 14,\n        \"samples\": [\n          \"PG\",\n          \"NC-17\"\n        ],\n        \"semantic_type\": \"\",\n        \"description\": \"\"\n      }\n    },\n    {\n      \"column\": \"Duration\",\n      \"properties\": {\n        \"dtype\": \"category\",\n        \"num_unique_values\": 216,\n        \"samples\": [\n          \"230 min\",\n          \"253 min\"\n        ],\n        \"semantic_type\": \"\",\n        \"description\": \"\"\n      }\n    },\n    {\n      \"column\": \"Type\",\n      \"properties\": {\n        \"dtype\": \"category\",\n        \"num_unique_values\": 492,\n        \"samples\": [\n          \"Children & Family Movies, Dramas\",\n          \"Dramas, LGBTQ Movies\"\n        ],\n        \"semantic_type\": \"\",\n        \"description\": \"\"\n      }\n    },\n    {\n      \"column\": \"Description\",\n      \"properties\": {\n        \"dtype\": \"string\",\n        \"num_unique_values\": 7769,\n        \"samples\": [\n          \"A middle-aged actress is cast in a film adaptation of the play that made her famous 20 years earlier, but in a much less glamorous role.\",\n          \"The life of a high-flying law student takes a drastic turn when a bout of misfortune changes his status in society for good.\"\n        ],\n        \"semantic_type\": \"\",\n        \"description\": \"\"\n      }\n    }\n  ]\n}"
            }
          },
          "metadata": {},
          "execution_count": 3
        }
      ],
      "source": [
        "df.head(20)"
      ]
    },
    {
      "cell_type": "code",
      "execution_count": null,
      "id": "a6f2f5f7-1f55-4068-8a90-65a93a5a0edf",
      "metadata": {
        "colab": {
          "base_uri": "https://localhost:8080/",
          "height": 241
        },
        "id": "a6f2f5f7-1f55-4068-8a90-65a93a5a0edf",
        "outputId": "1dd3cde7-d0f5-455c-ac04-0b97d6e362ef"
      },
      "outputs": [
        {
          "output_type": "execute_result",
          "data": {
            "text/plain": [
              "Director        2388\n",
              "Cast             718\n",
              "Country          507\n",
              "Release_Date      10\n",
              "Rating             7\n",
              "dtype: int64"
            ],
            "text/html": [
              "<div>\n",
              "<style scoped>\n",
              "    .dataframe tbody tr th:only-of-type {\n",
              "        vertical-align: middle;\n",
              "    }\n",
              "\n",
              "    .dataframe tbody tr th {\n",
              "        vertical-align: top;\n",
              "    }\n",
              "\n",
              "    .dataframe thead th {\n",
              "        text-align: right;\n",
              "    }\n",
              "</style>\n",
              "<table border=\"1\" class=\"dataframe\">\n",
              "  <thead>\n",
              "    <tr style=\"text-align: right;\">\n",
              "      <th></th>\n",
              "      <th>0</th>\n",
              "    </tr>\n",
              "  </thead>\n",
              "  <tbody>\n",
              "    <tr>\n",
              "      <th>Director</th>\n",
              "      <td>2388</td>\n",
              "    </tr>\n",
              "    <tr>\n",
              "      <th>Cast</th>\n",
              "      <td>718</td>\n",
              "    </tr>\n",
              "    <tr>\n",
              "      <th>Country</th>\n",
              "      <td>507</td>\n",
              "    </tr>\n",
              "    <tr>\n",
              "      <th>Release_Date</th>\n",
              "      <td>10</td>\n",
              "    </tr>\n",
              "    <tr>\n",
              "      <th>Rating</th>\n",
              "      <td>7</td>\n",
              "    </tr>\n",
              "  </tbody>\n",
              "</table>\n",
              "</div><br><label><b>dtype:</b> int64</label>"
            ]
          },
          "metadata": {},
          "execution_count": 4
        }
      ],
      "source": [
        "df.isnull().sum()[df.isnull().sum()>0]"
      ]
    },
    {
      "cell_type": "code",
      "execution_count": null,
      "id": "45d25ce7-1c4f-4896-b373-0814e2051020",
      "metadata": {
        "colab": {
          "base_uri": "https://localhost:8080/"
        },
        "id": "45d25ce7-1c4f-4896-b373-0814e2051020",
        "outputId": "6a126c2d-7a3e-4b33-b88d-26305f1595a3"
      },
      "outputs": [
        {
          "output_type": "execute_result",
          "data": {
            "text/plain": [
              "(7789, 11)"
            ]
          },
          "metadata": {},
          "execution_count": 5
        }
      ],
      "source": [
        "df.shape"
      ]
    },
    {
      "cell_type": "code",
      "execution_count": null,
      "id": "8761834e-f275-4ac7-82df-3e3444e14640",
      "metadata": {
        "colab": {
          "base_uri": "https://localhost:8080/"
        },
        "id": "8761834e-f275-4ac7-82df-3e3444e14640",
        "outputId": "8e05bc04-c9fd-4845-b636-7d0e0b85ff2f"
      },
      "outputs": [
        {
          "output_type": "stream",
          "name": "stdout",
          "text": [
            "<class 'pandas.core.frame.DataFrame'>\n",
            "RangeIndex: 7789 entries, 0 to 7788\n",
            "Data columns (total 11 columns):\n",
            " #   Column        Non-Null Count  Dtype \n",
            "---  ------        --------------  ----- \n",
            " 0   Show_Id       7789 non-null   object\n",
            " 1   Category      7789 non-null   object\n",
            " 2   Title         7789 non-null   object\n",
            " 3   Director      5401 non-null   object\n",
            " 4   Cast          7071 non-null   object\n",
            " 5   Country       7282 non-null   object\n",
            " 6   Release_Date  7779 non-null   object\n",
            " 7   Rating        7782 non-null   object\n",
            " 8   Duration      7789 non-null   object\n",
            " 9   Type          7789 non-null   object\n",
            " 10  Description   7789 non-null   object\n",
            "dtypes: object(11)\n",
            "memory usage: 669.5+ KB\n"
          ]
        }
      ],
      "source": [
        "df.info()"
      ]
    },
    {
      "cell_type": "code",
      "execution_count": null,
      "id": "0083f09b-b682-4ae0-b0a5-0c30b072a1d3",
      "metadata": {
        "colab": {
          "base_uri": "https://localhost:8080/"
        },
        "id": "0083f09b-b682-4ae0-b0a5-0c30b072a1d3",
        "outputId": "3e97156c-04bb-428a-93eb-7ebe879cd018"
      },
      "outputs": [
        {
          "output_type": "execute_result",
          "data": {
            "text/plain": [
              "Index(['Show_Id', 'Category', 'Title', 'Director', 'Cast', 'Country',\n",
              "       'Release_Date', 'Rating', 'Duration', 'Type', 'Description'],\n",
              "      dtype='object')"
            ]
          },
          "metadata": {},
          "execution_count": 7
        }
      ],
      "source": [
        "df.columns"
      ]
    },
    {
      "cell_type": "code",
      "execution_count": null,
      "id": "558cc701-64b6-4496-88a5-ab1eab193efb",
      "metadata": {
        "id": "558cc701-64b6-4496-88a5-ab1eab193efb"
      },
      "outputs": [],
      "source": [
        "df = df[df[['Release_Date', 'Rating']].notna().all(axis=1)]"
      ]
    },
    {
      "cell_type": "code",
      "execution_count": null,
      "id": "210eab18-90ca-44c0-96e8-ada3b488c552",
      "metadata": {
        "colab": {
          "base_uri": "https://localhost:8080/",
          "height": 178
        },
        "id": "210eab18-90ca-44c0-96e8-ada3b488c552",
        "outputId": "2db57b77-0984-44ad-9b44-0cf2610d881b"
      },
      "outputs": [
        {
          "output_type": "execute_result",
          "data": {
            "text/plain": [
              "Director    2375\n",
              "Cast         718\n",
              "Country      505\n",
              "dtype: int64"
            ],
            "text/html": [
              "<div>\n",
              "<style scoped>\n",
              "    .dataframe tbody tr th:only-of-type {\n",
              "        vertical-align: middle;\n",
              "    }\n",
              "\n",
              "    .dataframe tbody tr th {\n",
              "        vertical-align: top;\n",
              "    }\n",
              "\n",
              "    .dataframe thead th {\n",
              "        text-align: right;\n",
              "    }\n",
              "</style>\n",
              "<table border=\"1\" class=\"dataframe\">\n",
              "  <thead>\n",
              "    <tr style=\"text-align: right;\">\n",
              "      <th></th>\n",
              "      <th>0</th>\n",
              "    </tr>\n",
              "  </thead>\n",
              "  <tbody>\n",
              "    <tr>\n",
              "      <th>Director</th>\n",
              "      <td>2375</td>\n",
              "    </tr>\n",
              "    <tr>\n",
              "      <th>Cast</th>\n",
              "      <td>718</td>\n",
              "    </tr>\n",
              "    <tr>\n",
              "      <th>Country</th>\n",
              "      <td>505</td>\n",
              "    </tr>\n",
              "  </tbody>\n",
              "</table>\n",
              "</div><br><label><b>dtype:</b> int64</label>"
            ]
          },
          "metadata": {},
          "execution_count": 9
        }
      ],
      "source": [
        "df.isnull().sum()[df.isnull().sum()>0]"
      ]
    },
    {
      "cell_type": "code",
      "execution_count": null,
      "id": "d9571c87-b139-4cf3-8876-720c28c523ae",
      "metadata": {
        "colab": {
          "base_uri": "https://localhost:8080/"
        },
        "id": "d9571c87-b139-4cf3-8876-720c28c523ae",
        "outputId": "adf3a73d-c009-49a1-c1a8-0bbb0d86942b"
      },
      "outputs": [
        {
          "output_type": "execute_result",
          "data": {
            "text/plain": [
              "array([nan, 'Jorge Michel Grau', 'Gilbert Chan', ..., 'Josef Fares',\n",
              "       'Mozez Singh', 'Sam Dunn'], dtype=object)"
            ]
          },
          "metadata": {},
          "execution_count": 10
        }
      ],
      "source": [
        "df.Director.unique()"
      ]
    },
    {
      "cell_type": "code",
      "execution_count": null,
      "id": "5bbde470-42d6-4adc-aecb-21dd98e81e8f",
      "metadata": {
        "id": "5bbde470-42d6-4adc-aecb-21dd98e81e8f"
      },
      "outputs": [],
      "source": [
        "df['Director'] = df['Director'].fillna('not_available')\n",
        "df['Country']=df['Country'].fillna('unknown_country')"
      ]
    },
    {
      "cell_type": "code",
      "execution_count": null,
      "id": "1ea31512-740c-4570-8525-c0d7f555b324",
      "metadata": {
        "id": "1ea31512-740c-4570-8525-c0d7f555b324"
      },
      "outputs": [],
      "source": [
        "df.columns = [c.strip().lower().replace(\" \", \"_\") for c in df.columns]"
      ]
    },
    {
      "cell_type": "code",
      "execution_count": null,
      "id": "51204c10-4db7-489f-adbd-ce3e45746be4",
      "metadata": {
        "id": "51204c10-4db7-489f-adbd-ce3e45746be4"
      },
      "outputs": [],
      "source": [
        "df['release_date'] = pd.to_datetime(net['release_date'], errors='coerce')\n",
        "df['release_year'] = df['release_date'].dt.year"
      ]
    },
    {
      "cell_type": "code",
      "execution_count": null,
      "id": "7ad3581d-294e-48ae-a187-a414e8ca919b",
      "metadata": {
        "id": "7ad3581d-294e-48ae-a187-a414e8ca919b"
      },
      "outputs": [],
      "source": [
        "df['genres_list'] = df['type'].astype(str).apply(lambda x: [g.strip() for g in x.split(\",\")])\n",
        "\n",
        "\n",
        "df['country_list'] = df['country'].astype(str).apply(lambda x: [c.strip() for c in x.split(\",\")])"
      ]
    },
    {
      "cell_type": "markdown",
      "id": "9b8ada3a-ae68-4973-b571-916bc64d7a7d",
      "metadata": {
        "id": "9b8ada3a-ae68-4973-b571-916bc64d7a7d"
      },
      "source": [
        "# EXPLORATORY DATA ANALYSIS"
      ]
    },
    {
      "cell_type": "code",
      "execution_count": null,
      "id": "5da1d0eb-10f1-464a-b294-7413a4b9ae16",
      "metadata": {
        "colab": {
          "base_uri": "https://localhost:8080/"
        },
        "id": "5da1d0eb-10f1-464a-b294-7413a4b9ae16",
        "outputId": "c7e73de8-45db-4b38-a30f-757839558e33"
      },
      "outputs": [
        {
          "output_type": "stream",
          "name": "stdout",
          "text": [
            "Total Movies: 5374\n",
            "Total TV Shows: 2398\n",
            "\n",
            "Top 10 Genres:\n",
            "[('International Movies', 2437), ('Dramas', 2107), ('Comedies', 1472), ('International TV Shows', 1197), ('Documentaries', 786), ('Action & Adventure', 721), ('TV Dramas', 703), ('Independent Movies', 675), ('Children & Family Movies', 532), ('Romantic Movies', 531)]\n",
            "\n",
            "Top 10 Countries:\n",
            "[('United States', 3289), ('India', 990), ('United Kingdom', 722), ('unknown_country', 505), ('Canada', 412), ('France', 349), ('Japan', 285), ('Spain', 215), ('South Korea', 212), ('Germany', 199)]\n"
          ]
        }
      ],
      "source": [
        "movies_count = df[df['category'] == \"Movie\"].shape[0]\n",
        "tv_count = df[df['category'] == \"TV Show\"].shape[0]\n",
        "print(\"Total Movies:\", movies_count)\n",
        "print(\"Total TV Shows:\", tv_count)\n",
        "\n",
        "\n",
        "from collections import Counter\n",
        "all_genres = [g for sublist in df['genres_list'] for g in sublist]\n",
        "genre_counts = Counter(all_genres).most_common(10)\n",
        "print(\"\\nTop 10 Genres:\")\n",
        "print(genre_counts)\n",
        "\n",
        "all_countries = [c for sublist in df['country_list'] for c in sublist]\n",
        "country_counts = Counter(all_countries).most_common(10)\n",
        "print(\"\\nTop 10 Countries:\")\n",
        "print(country_counts)\n"
      ]
    },
    {
      "cell_type": "markdown",
      "id": "615df252-3be2-44dd-bc47-58811b1a7cb2",
      "metadata": {
        "id": "615df252-3be2-44dd-bc47-58811b1a7cb2"
      },
      "source": [
        "# VISUALIZATIONS"
      ]
    },
    {
      "cell_type": "markdown",
      "id": "8ce8b234-ecea-4687-b1d7-6712bdfc2ede",
      "metadata": {
        "id": "8ce8b234-ecea-4687-b1d7-6712bdfc2ede"
      },
      "source": [
        "# a) Movies vs TV Shows"
      ]
    },
    {
      "cell_type": "code",
      "execution_count": null,
      "id": "baf318c2-ebb4-4c2c-a54b-ab75106381fa",
      "metadata": {
        "colab": {
          "base_uri": "https://localhost:8080/",
          "height": 607
        },
        "id": "baf318c2-ebb4-4c2c-a54b-ab75106381fa",
        "outputId": "5ab3799d-78f2-45db-d3e0-cfa7e3f883a2"
      },
      "outputs": [
        {
          "output_type": "display_data",
          "data": {
            "text/plain": [
              "<Figure size 800x600 with 1 Axes>"
            ],
            "image/png": "[encoded data removed]"
          },
          "metadata": {}
        }
      ],
      "source": [
        "categories = [\"Movies\", \"TV Shows\"]\n",
        "counts = [movies_count, tv_count]\n",
        "colors = ['royalblue', 'orange']\n",
        "\n",
        "plt.figure(figsize=(8, 6))\n",
        "plt.bar(categories, counts, color=colors)\n",
        "plt.title(\"Movies vs TV Shows\")\n",
        "plt.ylabel(\"Count\")\n",
        "\n",
        "\n",
        "for i, count in enumerate(counts):\n",
        "    plt.text(i, count + 30, str(count), ha='center', va='bottom', fontsize=14, fontweight='bold')\n",
        "\n",
        "plt.tight_layout()\n",
        "plt.show()\n"
      ]
    },
    {
      "cell_type": "markdown",
      "id": "d3027528-d189-4e0f-9a2c-3596587f0cc9",
      "metadata": {
        "id": "d3027528-d189-4e0f-9a2c-3596587f0cc9"
      },
      "source": [
        "# b) Top 10 Genres`"
      ]
    },
    {
      "cell_type": "code",
      "execution_count": null,
      "id": "3409b14b-e60b-4c02-8a63-8565f2ea593b",
      "metadata": {
        "id": "3409b14b-e60b-4c02-8a63-8565f2ea593b",
        "outputId": "63befb4e-8555-497a-f092-0af6cb25e74b"
      },
      "outputs": [
        {
          "data": {
            "image/png": "[encoded data removed]",
            "text/plain": [
              "<Figure size 640x480 with 1 Axes>"
            ]
          },
          "metadata": {},
          "output_type": "display_data"
        }
      ],
      "source": [
        "genres, counts = zip(*genre_counts)\n",
        "plt.bar(genres, counts)\n",
        "plt.xticks(rotation=45, ha=\"right\")\n",
        "plt.title(\"Top 10 Genres\")\n",
        "plt.show()"
      ]
    },
    {
      "cell_type": "markdown",
      "id": "2a0f67f9-9d93-4d31-a6cc-485a4f027799",
      "metadata": {
        "id": "2a0f67f9-9d93-4d31-a6cc-485a4f027799"
      },
      "source": [
        "# c) Top 10 Countries"
      ]
    },
    {
      "cell_type": "code",
      "execution_count": null,
      "id": "d2996ba4-5666-4b67-8b99-58c8d882c0db",
      "metadata": {
        "id": "d2996ba4-5666-4b67-8b99-58c8d882c0db",
        "outputId": "51f36e68-92e6-447f-ba74-c56981b938f4"
      },
      "outputs": [
        {
          "data": {
            "image/png": "[encoded data removed]",
            "text/plain": [
              "<Figure size 640x480 with 1 Axes>"
            ]
          },
          "metadata": {},
          "output_type": "display_data"
        }
      ],
      "source": [
        "countries, counts = zip(*country_counts)\n",
        "plt.bar(countries, counts)\n",
        "plt.xticks(rotation=45, ha=\"right\")\n",
        "plt.title(\"Top 10 Countries by Content\")\n",
        "plt.show()"
      ]
    },
    {
      "cell_type": "markdown",
      "id": "b0b41441-dbbc-4019-b634-682ac1a738d8",
      "metadata": {
        "id": "b0b41441-dbbc-4019-b634-682ac1a738d8"
      },
      "source": [
        "# Conclusion"
      ]
    },
    {
      "cell_type": "raw",
      "id": "ed7440f1-5c05-458d-9a36-d1f5ddb54fe0",
      "metadata": {
        "id": "ed7440f1-5c05-458d-9a36-d1f5ddb54fe0"
      },
      "source": [
        "The data analysis of the Netflix dataset reveals several key insights that inform strategic recommendations for future growth. First, international content is a crucial driver for Netflix, as \"International Movies\" and \"International TV Shows\" rank among the top categories in the catalog. Investing in local-language originals and expanding the international library should continue to be a focus, especially for sustaining subscriber growth in non-US markets.\n",
        "\n",
        "Dramas and comedies also remain at the heart of the content strategy; they are consistently the most represented genres in the library. Within these, sub-genres such as independent movies offer further opportunities to cater to diverse audience tastes. Continued, strong production pipelines for both genres are advisable to maintain Netflix’s competitive advantage.\n",
        "\n",
        "Furthermore, India stands out as a particularly strong growth market, accounting for 11% of the total catalog. To maximize potential in this region, additional localized content, targeted marketing strategies, and local partnerships are recommended to convert catalog share into increased subscriber numbers and engagement.\n",
        "\n",
        "Overall, the analysis confirms that global diversification, genre variety, and regional investment are core pillars that should shape ongoing and future content decisions for Netflix."
      ]
    }
  ],
  "metadata": {
    "kernelspec": {
      "display_name": "Python [conda env:base] *",
      "language": "python",
      "name": "conda-base-py"
    },
    "language_info": {
      "codemirror_mode": {
        "name": "ipython",
        "version": 3
      },
      "file_extension": ".py",
      "mimetype": "text/x-python",
      "name": "python",
      "nbconvert_exporter": "python",
      "pygments_lexer": "ipython3",
      "version": "3.12.7"
    },
    "colab": {
      "provenance": []
    }
  },
  "nbformat": 4,
  "nbformat_minor": 5
}